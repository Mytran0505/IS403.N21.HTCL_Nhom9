{
 "cells": [
  {
   "cell_type": "code",
   "execution_count": 1,
   "metadata": {
    "colab": {
     "base_uri": "https://localhost:8080/"
    },
    "id": "FMDKda-XIUAK",
    "outputId": "be988c00-2f6c-43b6-a7bf-69a486a7845c"
   },
   "outputs": [],
   "source": [
    "# 1. Import thư viện cần thiết\n",
    "import numpy as np\n",
    "import pandas as pd\n",
    "import matplotlib.pyplot as plt\n",
    "from sklearn.preprocessing import MinMaxScaler\n",
    "from keras.models import Sequential\n",
    "from keras.layers import Dense, LSTM"
   ]
  },
  {
   "cell_type": "code",
   "execution_count": 2,
   "metadata": {
    "id": "aRm9GQ8KJJ5N"
   },
   "outputs": [],
   "source": [
    "# 2. Đọc file csv và gắng index với giá Close\n",
    "data = pd.read_csv('PVS Historical Data.csv')\n",
    "\n",
    "# Tiền xử lí dữ liệu\n",
    "# Hàm chuyển đổi \"Vol.\" từ chuỗi sang số\n",
    "def convert_volume_to_number(volume_str):\n",
    "    if volume_str[-1] == 'K':\n",
    "        return int(float(volume_str[:-1]) * 1000)\n",
    "    elif volume_str[-1] == 'M':\n",
    "        return int(float(volume_str[:-1]) * 1000000)\n",
    "    elif volume_str[-1] == 'B':\n",
    "        return int(float(volume_str[:-1]) * 1000000000)\n",
    "    else:\n",
    "        return int(volume_str)\n",
    "    \n",
    "# Áp dụng hàm chuyển đổi cho cột \"Vol.\"\n",
    "data[\"Vol.\"] = data[\"Vol.\"].apply(convert_volume_to_number)\n",
    "\n",
    "# Hàm chuyển đổi \"Change %\" từ chuỗi sang số\n",
    "def convert_change_to_number(change_str):\n",
    "    new_change = float(change_str.strip('%')) / 100\n",
    "    return new_change\n",
    "\n",
    "# Áp dụng hàm chuyển đổi cho cột \"Change %\"\n",
    "data[\"Change %\"] = data[\"Change %\"].apply(convert_change_to_number)\n",
    "\n",
    "# Hàm chuyển giá từ chuỗi sang số\n",
    "def convert_str_to_number(str):\n",
    "    return float(str.replace(',', ''))\n",
    "\n",
    "# Áp dụng hàm chuyển đổi cho các cột giá trị\n",
    "data['Price'] = data['Price'].apply(convert_str_to_number)\n",
    "data['Open'] = data['Open'].apply(convert_str_to_number)\n",
    "data['High'] = data['High'].apply(convert_str_to_number)\n",
    "data['Low'] = data['Low'].apply(convert_str_to_number)\n",
    "\n",
    "data\n",
    "\n",
    "df1=data.reset_index()['Price']"
   ]
  },
  {
   "cell_type": "code",
   "execution_count": 3,
   "metadata": {
    "id": "RdVpDho2JgL5"
   },
   "outputs": [],
   "source": [
    "# 3. Scaler data\n",
    "scaler=MinMaxScaler(feature_range=(0,1))\n",
    "df1=scaler.fit_transform(np.array(df1).reshape(-1,1))"
   ]
  },
  {
   "cell_type": "code",
   "execution_count": 4,
   "metadata": {
    "id": "B5JXpenzJoR3"
   },
   "outputs": [],
   "source": [
    "# 4. Chia train test\n",
    "train_size = int(0.8 * len(df1))\n",
    "test_size = int(0.15 * len(df1))\n",
    "val_size = len(df1) - train_size - test_size\n",
    "\n",
    "train_data = df1[:train_size]\n",
    "test_data = df1[train_size:train_size+test_size]\n",
    "val_data = df1[train_size+test_size:]"
   ]
  },
  {
   "cell_type": "code",
   "execution_count": 5,
   "metadata": {
    "id": "yJfmuBORLSfC"
   },
   "outputs": [],
   "source": [
    "# 5. Hàm Create Dataset\n",
    "import numpy\n",
    "# convert an array of values into a dataset matrix\n",
    "def create_dataset(dataset, time_step=1):\n",
    "\tdataX, dataY = [], []\n",
    "\tfor i in range(len(dataset)-time_step-1):\n",
    "\t\ta = dataset[i:(i+time_step), 0]   ###i=0, X=0,1,2,3-----99   Y=100 \n",
    "\t\tdataX.append(a)\n",
    "\t\tdataY.append(dataset[i + time_step, 0])\n",
    "\treturn numpy.array(dataX), numpy.array(dataY)"
   ]
  },
  {
   "cell_type": "code",
   "execution_count": 6,
   "metadata": {
    "id": "e81cKq03LXFB"
   },
   "outputs": [],
   "source": [
    "#6. Reshape into X=t,t+1,t+2..t+99 and Y=t+100\n",
    "\n",
    "time_step = 30\n",
    "X_train, y_train = create_dataset(train_data, time_step)\n",
    "X_val, yval = create_dataset(val_data, time_step)\n",
    "X_test, ytest = create_dataset(test_data, time_step)"
   ]
  },
  {
   "cell_type": "code",
   "execution_count": 7,
   "metadata": {
    "id": "RdBVfku7O2qb"
   },
   "outputs": [],
   "source": [
    "# 7. Reshape input to be [samples, time steps, features] which is required for LSTM\n",
    "X_train =X_train.reshape(X_train.shape[0],X_train.shape[1] , 1)\n",
    "X_test = X_test.reshape(X_test.shape[0],X_test.shape[1] , 1)\n",
    "X_val = X_val.reshape(X_val.shape[0],X_val.shape[1] , 1)"
   ]
  },
  {
   "cell_type": "code",
   "execution_count": 8,
   "metadata": {
    "id": "sSfxrE7BO9vX"
   },
   "outputs": [],
   "source": [
    "# 8. Define LSTM Model\n",
    "\n",
    "model=Sequential()\n",
    "model.add(LSTM(50,return_sequences=True,input_shape=(time_step, 1)))\n",
    "model.add(LSTM(50,return_sequences=True))\n",
    "model.add(LSTM(50))\n",
    "model.add(Dense(1))\n",
    "model.compile(loss='mean_squared_error',optimizer='adam')"
   ]
  },
  {
   "cell_type": "code",
   "execution_count": 9,
   "metadata": {
    "colab": {
     "base_uri": "https://localhost:8080/"
    },
    "id": "zgfeujZSPEKr",
    "outputId": "87151598-3792-46b5-857d-e7626c6a63de"
   },
   "outputs": [
    {
     "name": "stdout",
     "output_type": "stream",
     "text": [
      "Epoch 1/100\n",
      "17/17 [==============================] - 8s 118ms/step - loss: 0.0485 - val_loss: 0.0197\n",
      "Epoch 2/100\n",
      "17/17 [==============================] - 1s 33ms/step - loss: 0.0090 - val_loss: 0.0051\n",
      "Epoch 3/100\n",
      "17/17 [==============================] - 1s 36ms/step - loss: 0.0053 - val_loss: 0.0043\n",
      "Epoch 4/100\n",
      "17/17 [==============================] - 1s 35ms/step - loss: 0.0044 - val_loss: 0.0043\n",
      "Epoch 5/100\n",
      "17/17 [==============================] - 1s 36ms/step - loss: 0.0042 - val_loss: 0.0040\n",
      "Epoch 6/100\n",
      "17/17 [==============================] - 1s 36ms/step - loss: 0.0040 - val_loss: 0.0037\n",
      "Epoch 7/100\n",
      "17/17 [==============================] - 1s 36ms/step - loss: 0.0038 - val_loss: 0.0035\n",
      "Epoch 8/100\n",
      "17/17 [==============================] - 1s 37ms/step - loss: 0.0035 - val_loss: 0.0030\n",
      "Epoch 9/100\n",
      "17/17 [==============================] - 1s 34ms/step - loss: 0.0032 - val_loss: 0.0027\n",
      "Epoch 10/100\n",
      "17/17 [==============================] - 1s 35ms/step - loss: 0.0030 - val_loss: 0.0028\n",
      "Epoch 11/100\n",
      "17/17 [==============================] - 1s 35ms/step - loss: 0.0028 - val_loss: 0.0025\n",
      "Epoch 12/100\n",
      "17/17 [==============================] - 1s 35ms/step - loss: 0.0027 - val_loss: 0.0026\n",
      "Epoch 13/100\n",
      "17/17 [==============================] - 1s 36ms/step - loss: 0.0026 - val_loss: 0.0022\n",
      "Epoch 14/100\n",
      "17/17 [==============================] - 1s 33ms/step - loss: 0.0024 - val_loss: 0.0022\n",
      "Epoch 15/100\n",
      "17/17 [==============================] - 1s 34ms/step - loss: 0.0025 - val_loss: 0.0020\n",
      "Epoch 16/100\n",
      "17/17 [==============================] - 1s 32ms/step - loss: 0.0024 - val_loss: 0.0025\n",
      "Epoch 17/100\n",
      "17/17 [==============================] - 1s 33ms/step - loss: 0.0026 - val_loss: 0.0019\n",
      "Epoch 18/100\n",
      "17/17 [==============================] - 1s 33ms/step - loss: 0.0020 - val_loss: 0.0021\n",
      "Epoch 19/100\n",
      "17/17 [==============================] - 1s 34ms/step - loss: 0.0020 - val_loss: 0.0019\n",
      "Epoch 20/100\n",
      "17/17 [==============================] - 1s 35ms/step - loss: 0.0020 - val_loss: 0.0019\n",
      "Epoch 21/100\n",
      "17/17 [==============================] - 1s 36ms/step - loss: 0.0018 - val_loss: 0.0017\n",
      "Epoch 22/100\n",
      "17/17 [==============================] - 1s 36ms/step - loss: 0.0017 - val_loss: 0.0018\n",
      "Epoch 23/100\n",
      "17/17 [==============================] - 1s 36ms/step - loss: 0.0016 - val_loss: 0.0018\n",
      "Epoch 24/100\n",
      "17/17 [==============================] - 1s 37ms/step - loss: 0.0016 - val_loss: 0.0016\n",
      "Epoch 25/100\n",
      "17/17 [==============================] - 1s 34ms/step - loss: 0.0019 - val_loss: 0.0015\n",
      "Epoch 26/100\n",
      "17/17 [==============================] - 1s 34ms/step - loss: 0.0015 - val_loss: 0.0015\n",
      "Epoch 27/100\n",
      "17/17 [==============================] - 1s 36ms/step - loss: 0.0015 - val_loss: 0.0016\n",
      "Epoch 28/100\n",
      "17/17 [==============================] - 1s 34ms/step - loss: 0.0015 - val_loss: 0.0015\n",
      "Epoch 29/100\n",
      "17/17 [==============================] - 1s 34ms/step - loss: 0.0016 - val_loss: 0.0017\n",
      "Epoch 30/100\n",
      "17/17 [==============================] - 1s 32ms/step - loss: 0.0015 - val_loss: 0.0016\n",
      "Epoch 31/100\n",
      "17/17 [==============================] - 1s 36ms/step - loss: 0.0013 - val_loss: 0.0014\n",
      "Epoch 32/100\n",
      "17/17 [==============================] - 1s 38ms/step - loss: 0.0013 - val_loss: 0.0013\n",
      "Epoch 33/100\n",
      "17/17 [==============================] - 1s 36ms/step - loss: 0.0013 - val_loss: 0.0013\n",
      "Epoch 34/100\n",
      "17/17 [==============================] - 1s 34ms/step - loss: 0.0012 - val_loss: 0.0013\n",
      "Epoch 35/100\n",
      "17/17 [==============================] - 1s 34ms/step - loss: 0.0011 - val_loss: 0.0013\n",
      "Epoch 36/100\n",
      "17/17 [==============================] - 1s 34ms/step - loss: 0.0012 - val_loss: 0.0012\n",
      "Epoch 37/100\n",
      "17/17 [==============================] - 1s 34ms/step - loss: 0.0011 - val_loss: 0.0011\n",
      "Epoch 38/100\n",
      "17/17 [==============================] - 1s 34ms/step - loss: 0.0011 - val_loss: 0.0012\n",
      "Epoch 39/100\n",
      "17/17 [==============================] - 1s 34ms/step - loss: 0.0011 - val_loss: 0.0014\n",
      "Epoch 40/100\n",
      "17/17 [==============================] - 1s 34ms/step - loss: 0.0012 - val_loss: 0.0017\n",
      "Epoch 41/100\n",
      "17/17 [==============================] - 1s 33ms/step - loss: 0.0011 - val_loss: 0.0013\n",
      "Epoch 42/100\n",
      "17/17 [==============================] - 1s 36ms/step - loss: 9.8039e-04 - val_loss: 0.0011\n",
      "Epoch 43/100\n",
      "17/17 [==============================] - 1s 34ms/step - loss: 9.3092e-04 - val_loss: 0.0011\n",
      "Epoch 44/100\n",
      "17/17 [==============================] - 1s 34ms/step - loss: 8.9746e-04 - val_loss: 0.0010\n",
      "Epoch 45/100\n",
      "17/17 [==============================] - 1s 34ms/step - loss: 8.6795e-04 - val_loss: 0.0010\n",
      "Epoch 46/100\n",
      "17/17 [==============================] - 1s 34ms/step - loss: 9.2490e-04 - val_loss: 0.0019\n",
      "Epoch 47/100\n",
      "17/17 [==============================] - 1s 33ms/step - loss: 9.8895e-04 - val_loss: 9.8090e-04\n",
      "Epoch 48/100\n",
      "17/17 [==============================] - 1s 35ms/step - loss: 8.5609e-04 - val_loss: 0.0011\n",
      "Epoch 49/100\n",
      "17/17 [==============================] - 1s 38ms/step - loss: 8.5005e-04 - val_loss: 9.5443e-04\n",
      "Epoch 50/100\n",
      "17/17 [==============================] - 1s 35ms/step - loss: 8.4899e-04 - val_loss: 9.3712e-04\n",
      "Epoch 51/100\n",
      "17/17 [==============================] - 1s 39ms/step - loss: 7.8057e-04 - val_loss: 9.3851e-04\n",
      "Epoch 52/100\n",
      "17/17 [==============================] - 1s 35ms/step - loss: 7.5383e-04 - val_loss: 9.8887e-04\n",
      "Epoch 53/100\n",
      "17/17 [==============================] - 1s 35ms/step - loss: 7.3561e-04 - val_loss: 0.0011\n",
      "Epoch 54/100\n",
      "17/17 [==============================] - 1s 34ms/step - loss: 7.5718e-04 - val_loss: 9.8938e-04\n",
      "Epoch 55/100\n",
      "17/17 [==============================] - 1s 38ms/step - loss: 6.9127e-04 - val_loss: 9.1235e-04\n",
      "Epoch 56/100\n",
      "17/17 [==============================] - 1s 40ms/step - loss: 7.6537e-04 - val_loss: 0.0010\n",
      "Epoch 57/100\n",
      "17/17 [==============================] - 1s 36ms/step - loss: 7.2079e-04 - val_loss: 8.9331e-04\n",
      "Epoch 58/100\n",
      "17/17 [==============================] - 1s 37ms/step - loss: 7.8560e-04 - val_loss: 0.0015\n",
      "Epoch 59/100\n",
      "17/17 [==============================] - 1s 38ms/step - loss: 7.9096e-04 - val_loss: 9.2318e-04\n",
      "Epoch 60/100\n",
      "17/17 [==============================] - 1s 38ms/step - loss: 6.9284e-04 - val_loss: 8.7676e-04\n",
      "Epoch 61/100\n",
      "17/17 [==============================] - 1s 37ms/step - loss: 7.0483e-04 - val_loss: 9.2148e-04\n",
      "Epoch 62/100\n",
      "17/17 [==============================] - 1s 36ms/step - loss: 7.1037e-04 - val_loss: 8.7372e-04\n",
      "Epoch 63/100\n",
      "17/17 [==============================] - 1s 37ms/step - loss: 6.9834e-04 - val_loss: 8.5266e-04\n",
      "Epoch 64/100\n",
      "17/17 [==============================] - 1s 33ms/step - loss: 6.6294e-04 - val_loss: 8.4647e-04\n",
      "Epoch 65/100\n",
      "17/17 [==============================] - 1s 36ms/step - loss: 6.5749e-04 - val_loss: 8.5976e-04\n",
      "Epoch 66/100\n",
      "17/17 [==============================] - 1s 36ms/step - loss: 8.1358e-04 - val_loss: 0.0013\n",
      "Epoch 67/100\n",
      "17/17 [==============================] - 1s 36ms/step - loss: 8.3426e-04 - val_loss: 8.7564e-04\n",
      "Epoch 68/100\n",
      "17/17 [==============================] - 1s 35ms/step - loss: 7.4873e-04 - val_loss: 0.0012\n",
      "Epoch 69/100\n",
      "17/17 [==============================] - 1s 33ms/step - loss: 7.4839e-04 - val_loss: 0.0014\n",
      "Epoch 70/100\n",
      "17/17 [==============================] - 1s 36ms/step - loss: 7.4984e-04 - val_loss: 8.5160e-04\n",
      "Epoch 71/100\n",
      "17/17 [==============================] - 1s 36ms/step - loss: 6.5881e-04 - val_loss: 8.6772e-04\n",
      "Epoch 72/100\n",
      "17/17 [==============================] - 1s 36ms/step - loss: 6.6520e-04 - val_loss: 8.7145e-04\n",
      "Epoch 73/100\n",
      "17/17 [==============================] - 1s 35ms/step - loss: 6.5474e-04 - val_loss: 8.0906e-04\n",
      "Epoch 74/100\n",
      "17/17 [==============================] - 1s 34ms/step - loss: 8.3460e-04 - val_loss: 8.0188e-04\n",
      "Epoch 75/100\n",
      "17/17 [==============================] - 1s 40ms/step - loss: 7.5496e-04 - val_loss: 8.1746e-04\n",
      "Epoch 76/100\n",
      "17/17 [==============================] - 1s 38ms/step - loss: 7.4833e-04 - val_loss: 0.0014\n",
      "Epoch 77/100\n",
      "17/17 [==============================] - 1s 38ms/step - loss: 7.3909e-04 - val_loss: 8.2119e-04\n",
      "Epoch 78/100\n",
      "17/17 [==============================] - 1s 37ms/step - loss: 6.5484e-04 - val_loss: 8.2776e-04\n",
      "Epoch 79/100\n"
     ]
    },
    {
     "name": "stdout",
     "output_type": "stream",
     "text": [
      "17/17 [==============================] - 1s 36ms/step - loss: 7.2012e-04 - val_loss: 9.9156e-04\n",
      "Epoch 80/100\n",
      "17/17 [==============================] - 1s 35ms/step - loss: 6.3466e-04 - val_loss: 8.6038e-04\n",
      "Epoch 81/100\n",
      "17/17 [==============================] - 1s 37ms/step - loss: 6.0320e-04 - val_loss: 7.9983e-04\n",
      "Epoch 82/100\n",
      "17/17 [==============================] - 1s 43ms/step - loss: 5.8966e-04 - val_loss: 7.9242e-04\n",
      "Epoch 83/100\n",
      "17/17 [==============================] - 1s 48ms/step - loss: 5.8423e-04 - val_loss: 7.9979e-04\n",
      "Epoch 84/100\n",
      "17/17 [==============================] - 1s 39ms/step - loss: 6.2280e-04 - val_loss: 8.7601e-04\n",
      "Epoch 85/100\n",
      "17/17 [==============================] - 1s 39ms/step - loss: 7.0139e-04 - val_loss: 8.8124e-04\n",
      "Epoch 86/100\n",
      "17/17 [==============================] - 1s 41ms/step - loss: 6.6057e-04 - val_loss: 9.5200e-04\n",
      "Epoch 87/100\n",
      "17/17 [==============================] - 1s 37ms/step - loss: 6.7617e-04 - val_loss: 8.6526e-04\n",
      "Epoch 88/100\n",
      "17/17 [==============================] - 1s 37ms/step - loss: 7.2219e-04 - val_loss: 8.6545e-04\n",
      "Epoch 89/100\n",
      "17/17 [==============================] - 1s 37ms/step - loss: 6.0234e-04 - val_loss: 7.9960e-04\n",
      "Epoch 90/100\n",
      "17/17 [==============================] - 1s 41ms/step - loss: 6.1297e-04 - val_loss: 8.6388e-04\n",
      "Epoch 91/100\n",
      "17/17 [==============================] - 1s 40ms/step - loss: 6.0175e-04 - val_loss: 8.3008e-04\n",
      "Epoch 92/100\n",
      "17/17 [==============================] - 1s 36ms/step - loss: 5.9394e-04 - val_loss: 8.0703e-04\n",
      "Epoch 93/100\n",
      "17/17 [==============================] - 1s 40ms/step - loss: 5.9628e-04 - val_loss: 7.8335e-04\n",
      "Epoch 94/100\n",
      "17/17 [==============================] - 1s 43ms/step - loss: 6.1288e-04 - val_loss: 7.9060e-04\n",
      "Epoch 95/100\n",
      "17/17 [==============================] - 1s 41ms/step - loss: 5.8831e-04 - val_loss: 8.0281e-04\n",
      "Epoch 96/100\n",
      "17/17 [==============================] - 1s 45ms/step - loss: 5.6395e-04 - val_loss: 8.6708e-04\n",
      "Epoch 97/100\n",
      "17/17 [==============================] - 1s 44ms/step - loss: 6.0365e-04 - val_loss: 8.0037e-04\n",
      "Epoch 98/100\n",
      "17/17 [==============================] - 1s 42ms/step - loss: 6.2721e-04 - val_loss: 7.8343e-04\n",
      "Epoch 99/100\n",
      "17/17 [==============================] - 1s 38ms/step - loss: 5.6743e-04 - val_loss: 7.8376e-04\n",
      "Epoch 100/100\n",
      "17/17 [==============================] - 1s 41ms/step - loss: 5.5586e-04 - val_loss: 8.4925e-04\n"
     ]
    },
    {
     "data": {
      "text/plain": [
       "<keras.callbacks.History at 0x23c405a7950>"
      ]
     },
     "execution_count": 9,
     "metadata": {},
     "output_type": "execute_result"
    }
   ],
   "source": [
    "# 9. Fit mô hình với dữ liệu train\n",
    "model.fit(X_train,y_train,validation_data=(X_test,ytest),epochs=100,batch_size=64,verbose=1)"
   ]
  },
  {
   "cell_type": "code",
   "execution_count": 10,
   "metadata": {
    "colab": {
     "base_uri": "https://localhost:8080/"
    },
    "id": "Rxx_KQSkQpBG",
    "outputId": "838b0243-c20c-4627-f6a3-a1d23b99fffc"
   },
   "outputs": [
    {
     "name": "stdout",
     "output_type": "stream",
     "text": [
      "6/6 [==============================] - 2s 11ms/step\n",
      "2/2 [==============================] - 0s 7ms/step\n"
     ]
    }
   ],
   "source": [
    "# 10. Dự báo dữ liệu test, val\n",
    "y_pred=model.predict(X_test)\n",
    "y_pred_val=model.predict(X_val)\n",
    "\n",
    "y_pred_new = scaler.inverse_transform(y_pred.reshape(1, -1))\n",
    "y_test_new = scaler.inverse_transform(np.array([ytest], dtype=np.float32))"
   ]
  },
  {
   "cell_type": "code",
   "execution_count": 11,
   "metadata": {
    "colab": {
     "base_uri": "https://localhost:8080/"
    },
    "id": "wu_9j94kRonD",
    "outputId": "5eaf0ce1-4445-4f88-f264-ad1df25df699"
   },
   "outputs": [
    {
     "name": "stdout",
     "output_type": "stream",
     "text": [
      "RMSE trên tập test là: 848.72766\n",
      "MAPE trên tập test là: 2.757622115314007 %\n",
      "MDA trên tập test là: 44.50867052023121 %\n"
     ]
    }
   ],
   "source": [
    "from sklearn.metrics import mean_squared_error, mean_absolute_percentage_error\n",
    "# Hàm tính MDA\n",
    "def calculate_mda(y_true, y_pred):\n",
    "    y_true_diff = np.diff(y_true)\n",
    "    y_pred_diff = np.diff(y_pred)\n",
    "    correct_direction = np.sign(y_true_diff) == np.sign(y_pred_diff)\n",
    "    return np.mean(correct_direction) * 100\n",
    "\n",
    "# Tính toán RMSE, MAE và MAPE trên tập test\n",
    "test_score_rmse = np.sqrt(mean_squared_error(y_test_new, y_pred_new))\n",
    "test_score_mape = mean_absolute_percentage_error(y_test_new, y_pred_new) * 100\n",
    "test_score_mda = calculate_mda(y_test_new, y_pred_new)\n",
    "\n",
    "print('RMSE trên tập test là:', test_score_rmse)\n",
    "print('MAPE trên tập test là:', test_score_mape, '%')\n",
    "print('MDA trên tập test là:', test_score_mda, '%')"
   ]
  },
  {
   "cell_type": "code",
   "execution_count": 12,
   "metadata": {
    "colab": {
     "base_uri": "https://localhost:8080/"
    },
    "id": "izQZ1iQyYl6N",
    "outputId": "0873396e-ffed-4413-e6e9-84e9cb303174"
   },
   "outputs": [
    {
     "name": "stdout",
     "output_type": "stream",
     "text": [
      "[0.84218174]\n",
      "11\n",
      "1 day input [0.75882434 0.75539074 0.75539074 0.74165637 0.74165637 0.75195715\n",
      " 0.75195715 0.73822277 0.82406263 0.84218174]\n",
      "1 day output [[0.85950845]]\n",
      "2 day input [0.75539074 0.75539074 0.74165637 0.74165637 0.75195715 0.75195715\n",
      " 0.73822277 0.82406263 0.84218174 0.85950845]\n",
      "2 day output [[0.87122494]]\n",
      "3 day input [0.75539074 0.74165637 0.74165637 0.75195715 0.75195715 0.73822277\n",
      " 0.82406263 0.84218174 0.85950845 0.87122494]\n",
      "3 day output [[0.8840136]]\n",
      "4 day input [0.74165637 0.74165637 0.75195715 0.75195715 0.73822277 0.82406263\n",
      " 0.84218174 0.85950845 0.87122494 0.88401359]\n",
      "4 day output [[0.8983234]]\n",
      "5 day input [0.74165637 0.75195715 0.75195715 0.73822277 0.82406263 0.84218174\n",
      " 0.85950845 0.87122494 0.88401359 0.89832342]\n",
      "5 day output [[0.9140035]]\n",
      "6 day input [0.75195715 0.75195715 0.73822277 0.82406263 0.84218174 0.85950845\n",
      " 0.87122494 0.88401359 0.89832342 0.91400349]\n",
      "6 day output [[0.9303901]]\n",
      "7 day input [0.75195715 0.73822277 0.82406263 0.84218174 0.85950845 0.87122494\n",
      " 0.88401359 0.89832342 0.91400349 0.93039012]\n",
      "7 day output [[0.94677585]]\n",
      "8 day input [0.73822277 0.82406263 0.84218174 0.85950845 0.87122494 0.88401359\n",
      " 0.89832342 0.91400349 0.93039012 0.94677585]\n",
      "8 day output [[0.96253884]]\n",
      "9 day input [0.82406263 0.84218174 0.85950845 0.87122494 0.88401359 0.89832342\n",
      " 0.91400349 0.93039012 0.94677585 0.96253884]\n",
      "9 day output [[0.97720444]]\n",
      "10 day input [0.84218174 0.85950845 0.87122494 0.88401359 0.89832342 0.91400349\n",
      " 0.93039012 0.94677585 0.96253884 0.97720444]\n",
      "10 day output [[0.9912945]]\n",
      "11 day input [0.85950845 0.87122494 0.88401359 0.89832342 0.91400349 0.93039012\n",
      " 0.94677585 0.96253884 0.97720444 0.9912945 ]\n",
      "11 day output [[1.0050126]]\n",
      "12 day input [0.87122494 0.88401359 0.89832342 0.91400349 0.93039012 0.94677585\n",
      " 0.96253884 0.97720444 0.9912945  1.00501263]\n",
      "12 day output [[1.0184491]]\n",
      "13 day input [0.88401359 0.89832342 0.91400349 0.93039012 0.94677585 0.96253884\n",
      " 0.97720444 0.9912945  1.00501263 1.01844907]\n",
      "13 day output [[1.0315481]]\n",
      "14 day input [0.89832342 0.91400349 0.93039012 0.94677585 0.96253884 0.97720444\n",
      " 0.9912945  1.00501263 1.01844907 1.03154814]\n",
      "14 day output [[1.0442241]]\n",
      "15 day input [0.91400349 0.93039012 0.94677585 0.96253884 0.97720444 0.9912945\n",
      " 1.00501263 1.01844907 1.03154814 1.04422414]\n",
      "15 day output [[1.0564079]]\n",
      "16 day input [0.93039012 0.94677585 0.96253884 0.97720444 0.9912945  1.00501263\n",
      " 1.01844907 1.03154814 1.04422414 1.05640793]\n",
      "16 day output [[1.0680683]]\n",
      "17 day input [0.94677585 0.96253884 0.97720444 0.9912945  1.00501263 1.01844907\n",
      " 1.03154814 1.04422414 1.05640793 1.06806827]\n",
      "17 day output [[1.0792053]]\n",
      "18 day input [0.96253884 0.97720444 0.9912945  1.00501263 1.01844907 1.03154814\n",
      " 1.04422414 1.05640793 1.06806827 1.07920527]\n",
      "18 day output [[1.0898354]]\n",
      "19 day input [0.97720444 0.9912945  1.00501263 1.01844907 1.03154814 1.04422414\n",
      " 1.05640793 1.06806827 1.07920527 1.08983541]\n",
      "19 day output [[1.099975]]\n",
      "20 day input [0.9912945  1.00501263 1.01844907 1.03154814 1.04422414 1.05640793\n",
      " 1.06806827 1.07920527 1.08983541 1.09997499]\n",
      "20 day output [[1.1096318]]\n",
      "21 day input [1.00501263 1.01844907 1.03154814 1.04422414 1.05640793 1.06806827\n",
      " 1.07920527 1.08983541 1.09997499 1.10963178]\n",
      "21 day output [[1.1188085]]\n",
      "22 day input [1.01844907 1.03154814 1.04422414 1.05640793 1.06806827 1.07920527\n",
      " 1.08983541 1.09997499 1.10963178 1.11880851]\n",
      "22 day output [[1.1275096]]\n",
      "23 day input [1.03154814 1.04422414 1.05640793 1.06806827 1.07920527 1.08983541\n",
      " 1.09997499 1.10963178 1.11880851 1.12750959]\n",
      "23 day output [[1.1357421]]\n",
      "24 day input [1.04422414 1.05640793 1.06806827 1.07920527 1.08983541 1.09997499\n",
      " 1.10963178 1.11880851 1.12750959 1.13574207]\n",
      "24 day output [[1.1435181]]\n",
      "25 day input [1.05640793 1.06806827 1.07920527 1.08983541 1.09997499 1.10963178\n",
      " 1.11880851 1.12750959 1.13574207 1.14351809]\n",
      "25 day output [[1.1508529]]\n",
      "26 day input [1.06806827 1.07920527 1.08983541 1.09997499 1.10963178 1.11880851\n",
      " 1.12750959 1.13574207 1.14351809 1.15085292]\n",
      "26 day output [[1.1577629]]\n",
      "27 day input [1.07920527 1.08983541 1.09997499 1.10963178 1.11880851 1.12750959\n",
      " 1.13574207 1.14351809 1.15085292 1.15776289]\n",
      "27 day output [[1.1642643]]\n",
      "28 day input [1.08983541 1.09997499 1.10963178 1.11880851 1.12750959 1.13574207\n",
      " 1.14351809 1.15085292 1.15776289 1.16426432]\n",
      "28 day output [[1.1703738]]\n",
      "29 day input [1.09997499 1.10963178 1.11880851 1.12750959 1.13574207 1.14351809\n",
      " 1.15085292 1.15776289 1.16426432 1.1703738 ]\n",
      "29 day output [[1.1761079]]\n"
     ]
    }
   ],
   "source": [
    "# 13. Dự báo 30 ngày tiếp theo\n",
    "x_input=val_data[60:].reshape(1,-1)\n",
    "x_input.shape\n",
    "\n",
    "temp_input=list(x_input)\n",
    "temp_input=temp_input[0].tolist()\n",
    "\n",
    "from numpy import array\n",
    "\n",
    "lst_output=[]\n",
    "n_steps=x_input.shape[1]\n",
    "i=0\n",
    "while(i<30):\n",
    "    \n",
    "    if(len(temp_input)>x_input.shape[1]):\n",
    "        #print(temp_input)\n",
    "        x_input=np.array(temp_input[1:])\n",
    "        print(\"{} day input {}\".format(i,x_input))\n",
    "        x_input=x_input.reshape(1,-1)\n",
    "        x_input = x_input.reshape((1, n_steps, 1))\n",
    "        #print(x_input)\n",
    "        yhat = model.predict(x_input, verbose=0)\n",
    "        print(\"{} day output {}\".format(i,yhat))\n",
    "        temp_input.extend(yhat[0].tolist())\n",
    "        temp_input=temp_input[1:]\n",
    "        #print(temp_input)\n",
    "        lst_output.extend(yhat.tolist())\n",
    "        i=i+1\n",
    "    else:\n",
    "        x_input = x_input.reshape((1, n_steps,1))\n",
    "        yhat = model.predict(x_input, verbose=0)\n",
    "        print(yhat[0])\n",
    "        temp_input.extend(yhat[0].tolist())\n",
    "        print(len(temp_input))\n",
    "        lst_output.extend(yhat.tolist())\n",
    "        i=i+1\n"
   ]
  },
  {
   "cell_type": "code",
   "execution_count": 14,
   "metadata": {
    "colab": {
     "base_uri": "https://localhost:8080/",
     "height": 430
    },
    "id": "KSa_mX51a654",
    "outputId": "a46b0393-ed53-41d8-b391-c22820d72e83"
   },
   "outputs": [
    {
     "data": {
      "image/png": "[encoded data removed]",
      "text/plain": [
       "<Figure size 640x480 with 1 Axes>"
      ]
     },
     "metadata": {},
     "output_type": "display_data"
    }
   ],
   "source": [
    "# 14.Vẽ hình\n",
    "train_data_index = pd.RangeIndex(start=0, stop=train_size, step=1)\n",
    "plt.plot(scaler.inverse_transform(train_data))\n",
    "test_data_index = pd.RangeIndex(start=train_size, stop=train_size+test_size, step=1)\n",
    "plt.plot(test_data_index,scaler.inverse_transform(test_data))\n",
    "test_data_index = pd.RangeIndex(start=train_size+31, stop=train_size+test_size, step=1)\n",
    "plt.plot(test_data_index,scaler.inverse_transform(y_pred))\n",
    "val_data_index = pd.RangeIndex(start=train_size+test_size, stop=train_size+test_size+val_size, step=1)\n",
    "plt.plot(val_data_index,scaler.inverse_transform(val_data))\n",
    "val_data_index = pd.RangeIndex(start=train_size+test_size+31, stop=train_size+test_size+val_size, step=1)\n",
    "plt.plot(val_data_index,scaler.inverse_transform(y_pred_val))\n",
    "prediect_data_index = pd.RangeIndex(start=len(df1)-1, stop=len(df1)+29, step=1)\n",
    "plt.plot(prediect_data_index,scaler.inverse_transform(lst_output))\n",
    "plt.legend(['Train','Test','Predict','Validate','ValidatePred','Predict30days'])\n",
    "plt.show()"
   ]
  },
  {
   "cell_type": "code",
   "execution_count": null,
   "metadata": {},
   "outputs": [],
   "source": []
  }
 ],
 "metadata": {
  "colab": {
   "provenance": []
  },
  "kernelspec": {
   "display_name": "Python 3 (ipykernel)",
   "language": "python",
   "name": "python3"
  },
  "language_info": {
   "codemirror_mode": {
    "name": "ipython",
    "version": 3
   },
   "file_extension": ".py",
   "mimetype": "text/x-python",
   "name": "python",
   "nbconvert_exporter": "python",
   "pygments_lexer": "ipython3",
   "version": "3.11.1"
  }
 },
 "nbformat": 4,
 "nbformat_minor": 1
}
