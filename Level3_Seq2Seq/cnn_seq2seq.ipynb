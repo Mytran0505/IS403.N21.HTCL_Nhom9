{
  "nbformat": 4,
  "nbformat_minor": 0,
  "metadata": {
    "colab": {
      "provenance": []
    },
    "kernelspec": {
      "name": "python3",
      "display_name": "Python 3"
    },
    "language_info": {
      "name": "python"
    }
  },
  "cells": [
    {
      "cell_type": "code",
      "source": [
        "from google.colab import drive\n",
        "drive.mount('/content/drive')"
      ],
      "metadata": {
        "colab": {
          "base_uri": "https://localhost:8080/"
        },
        "id": "VWG7doUoXzyz",
        "outputId": "845e15df-fc5c-4dd3-cbf5-103facea2ce1"
      },
      "execution_count": 3,
      "outputs": [
        {
          "output_type": "stream",
          "name": "stdout",
          "text": [
            "Drive already mounted at /content/drive; to attempt to forcibly remount, call drive.mount(\"/content/drive\", force_remount=True).\n"
          ]
        }
      ]
    },
    {
      "cell_type": "code",
      "source": [
        "import sys\n",
        "import warnings\n",
        "\n",
        "if not sys.warnoptions:\n",
        "    warnings.simplefilter('ignore')"
      ],
      "metadata": {
        "id": "Do1ys5lgPFuU"
      },
      "execution_count": 4,
      "outputs": []
    },
    {
      "cell_type": "code",
      "execution_count": 5,
      "metadata": {
        "colab": {
          "base_uri": "https://localhost:8080/"
        },
        "id": "x5cZdbrDXsSZ",
        "outputId": "fd3a4ab4-3125-4f37-bf8d-2b51f906108c"
      },
      "outputs": [
        {
          "output_type": "stream",
          "name": "stderr",
          "text": [
            "WARNING:tensorflow:From /usr/local/lib/python3.10/dist-packages/tensorflow/python/compat/v2_compat.py:107: disable_resource_variables (from tensorflow.python.ops.variable_scope) is deprecated and will be removed in a future version.\n",
            "Instructions for updating:\n",
            "non-resource variables are not supported in the long term\n"
          ]
        }
      ],
      "source": [
        "# import tensorflow as tf\n",
        "import tensorflow.compat.v1 as tf\n",
        "tf.disable_v2_behavior()\n",
        "import numpy as np\n",
        "import matplotlib.pyplot as plt\n",
        "import seaborn as sns\n",
        "import pandas as pd\n",
        "from sklearn.preprocessing import MinMaxScaler\n",
        "from datetime import datetime\n",
        "from datetime import timedelta\n",
        "from tqdm import tqdm\n",
        "sns.set()\n",
        "tf.compat.v1.random.set_random_seed(1234)"
      ]
    },
    {
      "cell_type": "code",
      "source": [
        "df = pd.read_csv('/content/Dữ liệu Lịch sử PLC (2).csv')\n",
        "df.head()"
      ],
      "metadata": {
        "colab": {
          "base_uri": "https://localhost:8080/",
          "height": 206
        },
        "id": "cnOQFPjxX_Zi",
        "outputId": "8ff82134-d539-4b0a-caeb-a2583e65530a"
      },
      "execution_count": 6,
      "outputs": [
        {
          "output_type": "execute_result",
          "data": {
            "text/plain": [
              "        Date      Price       Open       High        Low    Vol. Change %\n",
              "0  1/12/2017  22,781.00  23,230.00  23,230.00  22,602.00   6.12K    1.60%\n",
              "1  4/12/2017  22,961.00  24,037.00  24,037.00  22,871.00   4.36K    0.79%\n",
              "2  5/12/2017  22,961.00  23,589.00  23,589.00  22,602.00   5.95K    0.00%\n",
              "3  6/12/2017  22,871.00  22,871.00  22,961.00  22,871.00  10.70K   -0.39%\n",
              "4  7/12/2017  22,512.00  22,423.00  22,512.00  22,423.00   7.10K   -1.57%"
            ],
            "text/html": [
              "\n",
              "  <div id=\"df-e783ae42-6073-4cd5-9c33-6d29fc3ab715\">\n",
              "    <div class=\"colab-df-container\">\n",
              "      <div>\n",
              "<style scoped>\n",
              "    .dataframe tbody tr th:only-of-type {\n",
              "        vertical-align: middle;\n",
              "    }\n",
              "\n",
              "    .dataframe tbody tr th {\n",
              "        vertical-align: top;\n",
              "    }\n",
              "\n",
              "    .dataframe thead th {\n",
              "        text-align: right;\n",
              "    }\n",
              "</style>\n",
              "<table border=\"1\" class=\"dataframe\">\n",
              "  <thead>\n",
              "    <tr style=\"text-align: right;\">\n",
              "      <th></th>\n",
              "      <th>Date</th>\n",
              "      <th>Price</th>\n",
              "      <th>Open</th>\n",
              "      <th>High</th>\n",
              "      <th>Low</th>\n",
              "      <th>Vol.</th>\n",
              "      <th>Change %</th>\n",
              "    </tr>\n",
              "  </thead>\n",
              "  <tbody>\n",
              "    <tr>\n",
              "      <th>0</th>\n",
              "      <td>1/12/2017</td>\n",
              "      <td>22,781.00</td>\n",
              "      <td>23,230.00</td>\n",
              "      <td>23,230.00</td>\n",
              "      <td>22,602.00</td>\n",
              "      <td>6.12K</td>\n",
              "      <td>1.60%</td>\n",
              "    </tr>\n",
              "    <tr>\n",
              "      <th>1</th>\n",
              "      <td>4/12/2017</td>\n",
              "      <td>22,961.00</td>\n",
              "      <td>24,037.00</td>\n",
              "      <td>24,037.00</td>\n",
              "      <td>22,871.00</td>\n",
              "      <td>4.36K</td>\n",
              "      <td>0.79%</td>\n",
              "    </tr>\n",
              "    <tr>\n",
              "      <th>2</th>\n",
              "      <td>5/12/2017</td>\n",
              "      <td>22,961.00</td>\n",
              "      <td>23,589.00</td>\n",
              "      <td>23,589.00</td>\n",
              "      <td>22,602.00</td>\n",
              "      <td>5.95K</td>\n",
              "      <td>0.00%</td>\n",
              "    </tr>\n",
              "    <tr>\n",
              "      <th>3</th>\n",
              "      <td>6/12/2017</td>\n",
              "      <td>22,871.00</td>\n",
              "      <td>22,871.00</td>\n",
              "      <td>22,961.00</td>\n",
              "      <td>22,871.00</td>\n",
              "      <td>10.70K</td>\n",
              "      <td>-0.39%</td>\n",
              "    </tr>\n",
              "    <tr>\n",
              "      <th>4</th>\n",
              "      <td>7/12/2017</td>\n",
              "      <td>22,512.00</td>\n",
              "      <td>22,423.00</td>\n",
              "      <td>22,512.00</td>\n",
              "      <td>22,423.00</td>\n",
              "      <td>7.10K</td>\n",
              "      <td>-1.57%</td>\n",
              "    </tr>\n",
              "  </tbody>\n",
              "</table>\n",
              "</div>\n",
              "      <button class=\"colab-df-convert\" onclick=\"convertToInteractive('df-e783ae42-6073-4cd5-9c33-6d29fc3ab715')\"\n",
              "              title=\"Convert this dataframe to an interactive table.\"\n",
              "              style=\"display:none;\">\n",
              "        \n",
              "  <svg xmlns=\"http://www.w3.org/2000/svg\" height=\"24px\"viewBox=\"0 0 24 24\"\n",
              "       width=\"24px\">\n",
              "    <path d=\"M0 0h24v24H0V0z\" fill=\"none\"/>\n",
              "    <path d=\"M18.56 5.44l.94 2.06.94-2.06 2.06-.94-2.06-.94-.94-2.06-.94 2.06-2.06.94zm-11 1L8.5 8.5l.94-2.06 2.06-.94-2.06-.94L8.5 2.5l-.94 2.06-2.06.94zm10 10l.94 2.06.94-2.06 2.06-.94-2.06-.94-.94-2.06-.94 2.06-2.06.94z\"/><path d=\"M17.41 7.96l-1.37-1.37c-.4-.4-.92-.59-1.43-.59-.52 0-1.04.2-1.43.59L10.3 9.45l-7.72 7.72c-.78.78-.78 2.05 0 2.83L4 21.41c.39.39.9.59 1.41.59.51 0 1.02-.2 1.41-.59l7.78-7.78 2.81-2.81c.8-.78.8-2.07 0-2.86zM5.41 20L4 18.59l7.72-7.72 1.47 1.35L5.41 20z\"/>\n",
              "  </svg>\n",
              "      </button>\n",
              "      \n",
              "  <style>\n",
              "    .colab-df-container {\n",
              "      display:flex;\n",
              "      flex-wrap:wrap;\n",
              "      gap: 12px;\n",
              "    }\n",
              "\n",
              "    .colab-df-convert {\n",
              "      background-color: #E8F0FE;\n",
              "      border: none;\n",
              "      border-radius: 50%;\n",
              "      cursor: pointer;\n",
              "      display: none;\n",
              "      fill: #1967D2;\n",
              "      height: 32px;\n",
              "      padding: 0 0 0 0;\n",
              "      width: 32px;\n",
              "    }\n",
              "\n",
              "    .colab-df-convert:hover {\n",
              "      background-color: #E2EBFA;\n",
              "      box-shadow: 0px 1px 2px rgba(60, 64, 67, 0.3), 0px 1px 3px 1px rgba(60, 64, 67, 0.15);\n",
              "      fill: #174EA6;\n",
              "    }\n",
              "\n",
              "    [theme=dark] .colab-df-convert {\n",
              "      background-color: #3B4455;\n",
              "      fill: #D2E3FC;\n",
              "    }\n",
              "\n",
              "    [theme=dark] .colab-df-convert:hover {\n",
              "      background-color: #434B5C;\n",
              "      box-shadow: 0px 1px 3px 1px rgba(0, 0, 0, 0.15);\n",
              "      filter: drop-shadow(0px 1px 2px rgba(0, 0, 0, 0.3));\n",
              "      fill: #FFFFFF;\n",
              "    }\n",
              "  </style>\n",
              "\n",
              "      <script>\n",
              "        const buttonEl =\n",
              "          document.querySelector('#df-e783ae42-6073-4cd5-9c33-6d29fc3ab715 button.colab-df-convert');\n",
              "        buttonEl.style.display =\n",
              "          google.colab.kernel.accessAllowed ? 'block' : 'none';\n",
              "\n",
              "        async function convertToInteractive(key) {\n",
              "          const element = document.querySelector('#df-e783ae42-6073-4cd5-9c33-6d29fc3ab715');\n",
              "          const dataTable =\n",
              "            await google.colab.kernel.invokeFunction('convertToInteractive',\n",
              "                                                     [key], {});\n",
              "          if (!dataTable) return;\n",
              "\n",
              "          const docLinkHtml = 'Like what you see? Visit the ' +\n",
              "            '<a target=\"_blank\" href=https://colab.research.google.com/notebooks/data_table.ipynb>data table notebook</a>'\n",
              "            + ' to learn more about interactive tables.';\n",
              "          element.innerHTML = '';\n",
              "          dataTable['output_type'] = 'display_data';\n",
              "          await google.colab.output.renderOutput(dataTable, element);\n",
              "          const docLink = document.createElement('div');\n",
              "          docLink.innerHTML = docLinkHtml;\n",
              "          element.appendChild(docLink);\n",
              "        }\n",
              "      </script>\n",
              "    </div>\n",
              "  </div>\n",
              "  "
            ]
          },
          "metadata": {},
          "execution_count": 6
        }
      ]
    },
    {
      "cell_type": "code",
      "source": [
        "# Hàm chuyển giá từ chuỗi sang số\n",
        "def convert_str_to_number(str):\n",
        "    return float(str.replace(',', ''))"
      ],
      "metadata": {
        "id": "OkIwm8ECYBls"
      },
      "execution_count": 7,
      "outputs": []
    },
    {
      "cell_type": "code",
      "source": [
        "df['Price'] = df['Price'].apply(convert_str_to_number)\n",
        "minmax = MinMaxScaler().fit(df.iloc[:, 1:2].astype('float32')) # Close index\n",
        "df_log = minmax.transform(df.iloc[:, 1:2].astype('float32')) # Close index\n",
        "df_log = pd.DataFrame(df_log)"
      ],
      "metadata": {
        "id": "dGRGTRsgYHLN"
      },
      "execution_count": 8,
      "outputs": []
    },
    {
      "cell_type": "code",
      "source": [
        "train_size = int(0.7 * len(df_log))\n",
        "test_size = int(0.2 * len(df_log))\n",
        "val_size = len(df_log) - train_size - test_size\n",
        "\n",
        "df_train = df_log[:train_size]\n",
        "df_test = df_log[train_size:train_size+test_size]\n",
        "df_val = df_log[train_size+test_size:]\n",
        "df.shape, df_train.shape, df_test.shape, df_val.shape"
      ],
      "metadata": {
        "colab": {
          "base_uri": "https://localhost:8080/"
        },
        "id": "-uGU96KkYKhT",
        "outputId": "ebd872cb-9e10-412c-b16b-ea220f5ac1eb"
      },
      "execution_count": 9,
      "outputs": [
        {
          "output_type": "execute_result",
          "data": {
            "text/plain": [
              "((1355, 7), (948, 1), (271, 1), (136, 1))"
            ]
          },
          "metadata": {},
          "execution_count": 9
        }
      ]
    },
    {
      "cell_type": "code",
      "source": [
        "def encoder_block(inp, n_hidden, filter_size):\n",
        "    inp = tf.expand_dims(inp, 2)\n",
        "    inp = tf.pad(\n",
        "        inp,\n",
        "        [\n",
        "            [0, 0],\n",
        "            [(filter_size[0] - 1) // 2, (filter_size[0] - 1) // 2],\n",
        "            [0, 0],\n",
        "            [0, 0],\n",
        "        ],\n",
        "    )\n",
        "    conv = tf.layers.conv2d(\n",
        "        inp, n_hidden, filter_size, padding = 'VALID', activation = None\n",
        "    )\n",
        "    conv = tf.squeeze(conv, 2)\n",
        "    return conv\n",
        "\n",
        "\n",
        "def decoder_block(inp, n_hidden, filter_size):\n",
        "    inp = tf.expand_dims(inp, 2)\n",
        "    inp = tf.pad(inp, [[0, 0], [filter_size[0] - 1, 0], [0, 0], [0, 0]])\n",
        "    conv = tf.layers.conv2d(\n",
        "        inp, n_hidden, filter_size, padding = 'VALID', activation = None\n",
        "    )\n",
        "    conv = tf.squeeze(conv, 2)\n",
        "    return conv\n",
        "\n",
        "\n",
        "def glu(x):\n",
        "    return tf.multiply(\n",
        "        x[:, :, : tf.shape(x)[2] // 2],\n",
        "        tf.sigmoid(x[:, :, tf.shape(x)[2] // 2 :]),\n",
        "    )\n",
        "\n",
        "\n",
        "def layer(inp, conv_block, kernel_width, n_hidden, residual = None):\n",
        "    z = conv_block(inp, n_hidden, (kernel_width, 1))\n",
        "    return glu(z) + (residual if residual is not None else 0)\n",
        "\n",
        "class Model:\n",
        "    def __init__(\n",
        "        self,\n",
        "        learning_rate,\n",
        "        num_layers,\n",
        "        size,\n",
        "        size_layer,\n",
        "        output_size,\n",
        "        kernel_size = 3,\n",
        "        n_attn_heads = 16,\n",
        "        dropout = 0.9,\n",
        "    ):\n",
        "        self.X = tf.placeholder(tf.float32, (None, None, size))\n",
        "        self.Y = tf.placeholder(tf.float32, (None, output_size))\n",
        "\n",
        "        encoder_embedded = tf.layers.dense(self.X, size_layer)\n",
        "\n",
        "        e = tf.identity(encoder_embedded)\n",
        "        for i in range(num_layers):\n",
        "            z = layer(\n",
        "                encoder_embedded,\n",
        "                encoder_block,\n",
        "                kernel_size,\n",
        "                size_layer * 2,\n",
        "                encoder_embedded,\n",
        "            )\n",
        "            z = tf.nn.dropout(z, keep_prob = dropout)\n",
        "            encoder_embedded = z\n",
        "\n",
        "        encoder_output, output_memory = z, z + e\n",
        "        g = tf.identity(encoder_embedded)\n",
        "\n",
        "        for i in range(num_layers):\n",
        "            attn_res = h = layer(\n",
        "                encoder_embedded,\n",
        "                decoder_block,\n",
        "                kernel_size,\n",
        "                size_layer * 2,\n",
        "                residual = tf.zeros_like(encoder_embedded),\n",
        "            )\n",
        "            C = []\n",
        "            for j in range(n_attn_heads):\n",
        "                h_ = tf.layers.dense(h, size_layer // n_attn_heads)\n",
        "                g_ = tf.layers.dense(g, size_layer // n_attn_heads)\n",
        "                zu_ = tf.layers.dense(\n",
        "                    encoder_output, size_layer // n_attn_heads\n",
        "                )\n",
        "                ze_ = tf.layers.dense(output_memory, size_layer // n_attn_heads)\n",
        "\n",
        "                d = tf.layers.dense(h_, size_layer // n_attn_heads) + g_\n",
        "                dz = tf.matmul(d, tf.transpose(zu_, [0, 2, 1]))\n",
        "                a = tf.nn.softmax(dz)\n",
        "                c_ = tf.matmul(a, ze_)\n",
        "                C.append(c_)\n",
        "\n",
        "            c = tf.concat(C, 2)\n",
        "            h = tf.layers.dense(attn_res + c, size_layer)\n",
        "            h = tf.nn.dropout(h, keep_prob = dropout)\n",
        "            encoder_embedded = h\n",
        "\n",
        "        encoder_embedded = tf.sigmoid(encoder_embedded[-1])\n",
        "        self.logits = tf.layers.dense(encoder_embedded, output_size)\n",
        "        self.cost = tf.reduce_mean(tf.square(self.Y - self.logits))\n",
        "        self.optimizer = tf.train.AdamOptimizer(learning_rate).minimize(\n",
        "            self.cost\n",
        "        )\n",
        "        \n",
        "def calculate_accuracy(real, predict):\n",
        "    real = np.array(real) + 1\n",
        "    predict = np.array(predict) + 1\n",
        "    percentage = 1 - np.sqrt(np.mean(np.square((real - predict) / real)))\n",
        "    return percentage * 100\n",
        "\n",
        "def anchor(signal, weight):\n",
        "    buffer = []\n",
        "    last = signal[0]\n",
        "    for i in signal:\n",
        "        smoothed_val = last * weight + (1 - weight) * i\n",
        "        buffer.append(smoothed_val)\n",
        "        last = smoothed_val\n",
        "    return buffer"
      ],
      "metadata": {
        "id": "g61A1bWrYPRv"
      },
      "execution_count": 10,
      "outputs": []
    },
    {
      "cell_type": "code",
      "source": [
        "num_layers = 1\n",
        "size_layer = 128\n",
        "timestamp = test_size\n",
        "epoch = 300\n",
        "dropout_rate = 0.7\n",
        "future_day = test_size\n",
        "learning_rate = 1e-3"
      ],
      "metadata": {
        "id": "rm2krS9xYQYT"
      },
      "execution_count": 11,
      "outputs": []
    },
    {
      "cell_type": "code",
      "source": [
        "def forecast(index, days):\n",
        "    tf.reset_default_graph()\n",
        "    modelnn = Model(\n",
        "        learning_rate, num_layers, df_log.shape[1], size_layer, df_log.shape[1], \n",
        "        dropout = dropout_rate\n",
        "    )\n",
        "    sess = tf.InteractiveSession()\n",
        "    sess.run(tf.global_variables_initializer())\n",
        "    date_ori = pd.to_datetime(df.iloc[:, 0]).tolist()\n",
        "\n",
        "    pbar = tqdm(range(epoch), desc = 'train loop')\n",
        "    for i in pbar:\n",
        "        init_value = np.zeros((1, num_layers * 2 * size_layer))\n",
        "        total_loss, total_acc = [], []\n",
        "        for k in range(0, df_train.shape[0] - 1, timestamp):\n",
        "            index = min(k + timestamp, df_train.shape[0] - 1)\n",
        "            batch_x = np.expand_dims(\n",
        "                df_train.iloc[k : index, :].values, axis = 0\n",
        "            )\n",
        "            batch_y = df_train.iloc[k + 1 : index + 1, :].values\n",
        "            logits, _, loss = sess.run(\n",
        "                [modelnn.logits, modelnn.optimizer, modelnn.cost],\n",
        "                feed_dict = {modelnn.X: batch_x, modelnn.Y: batch_y},\n",
        "            )        \n",
        "            total_loss.append(loss)\n",
        "            total_acc.append(calculate_accuracy(batch_y[:, 0], logits[:, 0]))\n",
        "        pbar.set_postfix(cost = np.mean(total_loss), acc = np.mean(total_acc))\n",
        "    \n",
        "    future_day = days\n",
        "\n",
        "    output_predict = np.zeros((df_train.shape[0] + future_day, df_train.shape[1]))\n",
        "    output_predict[0] = df_train.iloc[0]\n",
        "    upper_b = (df_train.shape[0] // timestamp) * timestamp\n",
        "\n",
        "    for k in range(0, (df_train.shape[0] // timestamp) * timestamp, timestamp):\n",
        "        out_logits = sess.run(\n",
        "            modelnn.logits,\n",
        "            feed_dict = {\n",
        "                modelnn.X: np.expand_dims(\n",
        "                    df_train.iloc[k : k + timestamp], axis = 0\n",
        "                )\n",
        "            },\n",
        "        )\n",
        "        output_predict[k + 1 : k + timestamp + 1] = out_logits\n",
        "\n",
        "    if upper_b != df_train.shape[0]:\n",
        "        out_logits = sess.run(\n",
        "            modelnn.logits,\n",
        "            feed_dict = {\n",
        "                modelnn.X: np.expand_dims(df_train.iloc[upper_b:], axis = 0)\n",
        "            },\n",
        "        )\n",
        "        output_predict[upper_b + 1 : df_train.shape[0] + 1] = out_logits\n",
        "        future_day -= 1\n",
        "        date_ori.append(date_ori[-1] + timedelta(days = 1))\n",
        "    \n",
        "    for i in range(future_day):\n",
        "        o = output_predict[-future_day - timestamp + i:-future_day + i]\n",
        "        out_logits = sess.run(\n",
        "            modelnn.logits,\n",
        "            feed_dict = {\n",
        "                modelnn.X: np.expand_dims(o, axis = 0)\n",
        "            },\n",
        "        )\n",
        "        output_predict[-future_day + i] = out_logits[-1]\n",
        "        date_ori.append(date_ori[-1] + timedelta(days = 1))\n",
        "\n",
        "    output_predict = minmax.inverse_transform(output_predict)\n",
        "    deep_future = anchor(output_predict[:, 0], 0.3)\n",
        "    \n",
        "    return deep_future[index:index+days]"
      ],
      "metadata": {
        "id": "PL1CK21b2Q1l"
      },
      "execution_count": 12,
      "outputs": []
    },
    {
      "cell_type": "code",
      "source": [
        "y_test = forecast(train_size, test_size)"
      ],
      "metadata": {
        "colab": {
          "base_uri": "https://localhost:8080/"
        },
        "id": "RuVXVxnC4cBX",
        "outputId": "01390efa-bd0f-44c7-896b-3fa76efb4778"
      },
      "execution_count": 13,
      "outputs": [
        {
          "output_type": "stream",
          "name": "stderr",
          "text": [
            "<ipython-input-10-6c0655f4345e>:55: UserWarning: `tf.layers.dense` is deprecated and will be removed in a future version. Please use `tf.keras.layers.Dense` instead.\n",
            "  encoder_embedded = tf.layers.dense(self.X, size_layer)\n",
            "<ipython-input-10-6c0655f4345e>:12: UserWarning: `tf.layers.conv2d` is deprecated and will be removed in a future version. Please Use `tf.keras.layers.Conv2D` instead.\n",
            "  conv = tf.layers.conv2d(\n",
            "WARNING:tensorflow:From /usr/local/lib/python3.10/dist-packages/tensorflow/python/util/dispatch.py:1176: calling dropout (from tensorflow.python.ops.nn_ops) with keep_prob is deprecated and will be removed in a future version.\n",
            "Instructions for updating:\n",
            "Please use `rate` instead of `keep_prob`. Rate should be set to `rate = 1 - keep_prob`.\n",
            "<ipython-input-10-6c0655f4345e>:22: UserWarning: `tf.layers.conv2d` is deprecated and will be removed in a future version. Please Use `tf.keras.layers.Conv2D` instead.\n",
            "  conv = tf.layers.conv2d(\n",
            "<ipython-input-10-6c0655f4345e>:82: UserWarning: `tf.layers.dense` is deprecated and will be removed in a future version. Please use `tf.keras.layers.Dense` instead.\n",
            "  h_ = tf.layers.dense(h, size_layer // n_attn_heads)\n",
            "<ipython-input-10-6c0655f4345e>:83: UserWarning: `tf.layers.dense` is deprecated and will be removed in a future version. Please use `tf.keras.layers.Dense` instead.\n",
            "  g_ = tf.layers.dense(g, size_layer // n_attn_heads)\n",
            "<ipython-input-10-6c0655f4345e>:84: UserWarning: `tf.layers.dense` is deprecated and will be removed in a future version. Please use `tf.keras.layers.Dense` instead.\n",
            "  zu_ = tf.layers.dense(\n",
            "<ipython-input-10-6c0655f4345e>:87: UserWarning: `tf.layers.dense` is deprecated and will be removed in a future version. Please use `tf.keras.layers.Dense` instead.\n",
            "  ze_ = tf.layers.dense(output_memory, size_layer // n_attn_heads)\n",
            "<ipython-input-10-6c0655f4345e>:89: UserWarning: `tf.layers.dense` is deprecated and will be removed in a future version. Please use `tf.keras.layers.Dense` instead.\n",
            "  d = tf.layers.dense(h_, size_layer // n_attn_heads) + g_\n",
            "<ipython-input-10-6c0655f4345e>:96: UserWarning: `tf.layers.dense` is deprecated and will be removed in a future version. Please use `tf.keras.layers.Dense` instead.\n",
            "  h = tf.layers.dense(attn_res + c, size_layer)\n",
            "<ipython-input-10-6c0655f4345e>:101: UserWarning: `tf.layers.dense` is deprecated and will be removed in a future version. Please use `tf.keras.layers.Dense` instead.\n",
            "  self.logits = tf.layers.dense(encoder_embedded, output_size)\n",
            "<ipython-input-12-e5e3538c1e1b>:9: UserWarning: Parsing dates in DD/MM/YYYY format when dayfirst=False (the default) was specified. This may lead to inconsistently parsed dates! Specify a format to ensure consistent parsing.\n",
            "  date_ori = pd.to_datetime(df.iloc[:, 0]).tolist()\n",
            "train loop: 100%|██████████| 300/300 [01:02<00:00,  4.78it/s, acc=98.5, cost=0.00045]\n"
          ]
        }
      ]
    },
    {
      "cell_type": "code",
      "source": [
        "y_val = forecast(test_size, val_size)"
      ],
      "metadata": {
        "colab": {
          "base_uri": "https://localhost:8080/"
        },
        "id": "t69mD0-55CAT",
        "outputId": "40af1ae1-d75f-422c-cdd6-c6bd40846ade"
      },
      "execution_count": 14,
      "outputs": [
        {
          "output_type": "stream",
          "name": "stderr",
          "text": [
            "<ipython-input-10-6c0655f4345e>:55: UserWarning: `tf.layers.dense` is deprecated and will be removed in a future version. Please use `tf.keras.layers.Dense` instead.\n",
            "  encoder_embedded = tf.layers.dense(self.X, size_layer)\n",
            "<ipython-input-10-6c0655f4345e>:12: UserWarning: `tf.layers.conv2d` is deprecated and will be removed in a future version. Please Use `tf.keras.layers.Conv2D` instead.\n",
            "  conv = tf.layers.conv2d(\n",
            "<ipython-input-10-6c0655f4345e>:22: UserWarning: `tf.layers.conv2d` is deprecated and will be removed in a future version. Please Use `tf.keras.layers.Conv2D` instead.\n",
            "  conv = tf.layers.conv2d(\n",
            "<ipython-input-10-6c0655f4345e>:82: UserWarning: `tf.layers.dense` is deprecated and will be removed in a future version. Please use `tf.keras.layers.Dense` instead.\n",
            "  h_ = tf.layers.dense(h, size_layer // n_attn_heads)\n",
            "<ipython-input-10-6c0655f4345e>:83: UserWarning: `tf.layers.dense` is deprecated and will be removed in a future version. Please use `tf.keras.layers.Dense` instead.\n",
            "  g_ = tf.layers.dense(g, size_layer // n_attn_heads)\n",
            "<ipython-input-10-6c0655f4345e>:84: UserWarning: `tf.layers.dense` is deprecated and will be removed in a future version. Please use `tf.keras.layers.Dense` instead.\n",
            "  zu_ = tf.layers.dense(\n",
            "<ipython-input-10-6c0655f4345e>:87: UserWarning: `tf.layers.dense` is deprecated and will be removed in a future version. Please use `tf.keras.layers.Dense` instead.\n",
            "  ze_ = tf.layers.dense(output_memory, size_layer // n_attn_heads)\n",
            "<ipython-input-10-6c0655f4345e>:89: UserWarning: `tf.layers.dense` is deprecated and will be removed in a future version. Please use `tf.keras.layers.Dense` instead.\n",
            "  d = tf.layers.dense(h_, size_layer // n_attn_heads) + g_\n",
            "<ipython-input-10-6c0655f4345e>:96: UserWarning: `tf.layers.dense` is deprecated and will be removed in a future version. Please use `tf.keras.layers.Dense` instead.\n",
            "  h = tf.layers.dense(attn_res + c, size_layer)\n",
            "<ipython-input-10-6c0655f4345e>:101: UserWarning: `tf.layers.dense` is deprecated and will be removed in a future version. Please use `tf.keras.layers.Dense` instead.\n",
            "  self.logits = tf.layers.dense(encoder_embedded, output_size)\n",
            "/usr/local/lib/python3.10/dist-packages/tensorflow/python/client/session.py:1769: UserWarning: An interactive session is already active. This can cause out-of-memory errors in some cases. You must explicitly call `InteractiveSession.close()` to release resources held by the other session(s).\n",
            "  warnings.warn('An interactive session is already active. This can '\n",
            "<ipython-input-12-e5e3538c1e1b>:9: UserWarning: Parsing dates in DD/MM/YYYY format when dayfirst=False (the default) was specified. This may lead to inconsistently parsed dates! Specify a format to ensure consistent parsing.\n",
            "  date_ori = pd.to_datetime(df.iloc[:, 0]).tolist()\n",
            "train loop: 100%|██████████| 300/300 [01:01<00:00,  4.86it/s, acc=98.4, cost=0.000584]\n"
          ]
        }
      ]
    },
    {
      "cell_type": "code",
      "source": [
        "last_index =  df.index[-1]\n",
        "last_data = pd.RangeIndex(start=last_index, stop=last_index+30, step=1)\n",
        "y_next_30_days = forecast(val_size, 30)"
      ],
      "metadata": {
        "colab": {
          "base_uri": "https://localhost:8080/"
        },
        "id": "hcxowQTo5C1-",
        "outputId": "7d62ca4a-d0fc-476b-d2ad-2730ac438a7a"
      },
      "execution_count": 15,
      "outputs": [
        {
          "output_type": "stream",
          "name": "stderr",
          "text": [
            "<ipython-input-10-6c0655f4345e>:55: UserWarning: `tf.layers.dense` is deprecated and will be removed in a future version. Please use `tf.keras.layers.Dense` instead.\n",
            "  encoder_embedded = tf.layers.dense(self.X, size_layer)\n",
            "<ipython-input-10-6c0655f4345e>:12: UserWarning: `tf.layers.conv2d` is deprecated and will be removed in a future version. Please Use `tf.keras.layers.Conv2D` instead.\n",
            "  conv = tf.layers.conv2d(\n",
            "<ipython-input-10-6c0655f4345e>:22: UserWarning: `tf.layers.conv2d` is deprecated and will be removed in a future version. Please Use `tf.keras.layers.Conv2D` instead.\n",
            "  conv = tf.layers.conv2d(\n",
            "<ipython-input-10-6c0655f4345e>:82: UserWarning: `tf.layers.dense` is deprecated and will be removed in a future version. Please use `tf.keras.layers.Dense` instead.\n",
            "  h_ = tf.layers.dense(h, size_layer // n_attn_heads)\n",
            "<ipython-input-10-6c0655f4345e>:83: UserWarning: `tf.layers.dense` is deprecated and will be removed in a future version. Please use `tf.keras.layers.Dense` instead.\n",
            "  g_ = tf.layers.dense(g, size_layer // n_attn_heads)\n",
            "<ipython-input-10-6c0655f4345e>:84: UserWarning: `tf.layers.dense` is deprecated and will be removed in a future version. Please use `tf.keras.layers.Dense` instead.\n",
            "  zu_ = tf.layers.dense(\n",
            "<ipython-input-10-6c0655f4345e>:87: UserWarning: `tf.layers.dense` is deprecated and will be removed in a future version. Please use `tf.keras.layers.Dense` instead.\n",
            "  ze_ = tf.layers.dense(output_memory, size_layer // n_attn_heads)\n",
            "<ipython-input-10-6c0655f4345e>:89: UserWarning: `tf.layers.dense` is deprecated and will be removed in a future version. Please use `tf.keras.layers.Dense` instead.\n",
            "  d = tf.layers.dense(h_, size_layer // n_attn_heads) + g_\n",
            "<ipython-input-10-6c0655f4345e>:96: UserWarning: `tf.layers.dense` is deprecated and will be removed in a future version. Please use `tf.keras.layers.Dense` instead.\n",
            "  h = tf.layers.dense(attn_res + c, size_layer)\n",
            "<ipython-input-10-6c0655f4345e>:101: UserWarning: `tf.layers.dense` is deprecated and will be removed in a future version. Please use `tf.keras.layers.Dense` instead.\n",
            "  self.logits = tf.layers.dense(encoder_embedded, output_size)\n",
            "/usr/local/lib/python3.10/dist-packages/tensorflow/python/client/session.py:1769: UserWarning: An interactive session is already active. This can cause out-of-memory errors in some cases. You must explicitly call `InteractiveSession.close()` to release resources held by the other session(s).\n",
            "  warnings.warn('An interactive session is already active. This can '\n",
            "<ipython-input-12-e5e3538c1e1b>:9: UserWarning: Parsing dates in DD/MM/YYYY format when dayfirst=False (the default) was specified. This may lead to inconsistently parsed dates! Specify a format to ensure consistent parsing.\n",
            "  date_ori = pd.to_datetime(df.iloc[:, 0]).tolist()\n",
            "train loop: 100%|██████████| 300/300 [01:00<00:00,  4.92it/s, acc=97.9, cost=0.000853]\n"
          ]
        }
      ]
    },
    {
      "cell_type": "code",
      "source": [
        "plt.figure(figsize = (15, 5))\n",
        "plt.plot(df['Price'].iloc[:train_size], label = 'Train')\n",
        "plt.plot(df['Price'].iloc[train_size:train_size+test_size], label = 'Test')\n",
        "plt.plot(df_test.index, y_test, label = 'Predictions')\n",
        "plt.plot(df_val.index, y_val, label = 'Validate')\n",
        "plt.plot(last_data, y_next_30_days, label = 'Next 30 days')\n",
        "plt.legend()\n"
      ],
      "metadata": {
        "colab": {
          "base_uri": "https://localhost:8080/",
          "height": 467
        },
        "id": "zehi19AZT1m2",
        "outputId": "94a4a186-72b0-4862-9c81-77362eb74cd7"
      },
      "execution_count": 16,
      "outputs": [
        {
          "output_type": "execute_result",
          "data": {
            "text/plain": [
              "<matplotlib.legend.Legend at 0x7fa1206ad6f0>"
            ]
          },
          "metadata": {},
          "execution_count": 16
        },
        {
          "output_type": "display_data",
          "data": {
            "text/plain": [
              "<Figure size 1500x500 with 1 Axes>"
            ],
            "image/png": "[encoded data removed]"
          },
          "metadata": {}
        }
      ]
    },
    {
      "cell_type": "code",
      "source": [],
      "metadata": {
        "id": "912tMcpk9A1z"
      },
      "execution_count": 16,
      "outputs": []
    }
  ]
}