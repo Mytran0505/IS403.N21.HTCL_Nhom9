{
 "cells": [
  {
   "cell_type": "markdown",
   "id": "e4aa6df2",
   "metadata": {},
   "source": [
    "# Đọc và tiền xử lí dữ liệu"
   ]
  },
  {
   "cell_type": "code",
   "execution_count": 1,
   "id": "00f662ac",
   "metadata": {},
   "outputs": [
    {
     "data": {
      "text/html": [
       "<div>\n",
       "<style scoped>\n",
       "    .dataframe tbody tr th:only-of-type {\n",
       "        vertical-align: middle;\n",
       "    }\n",
       "\n",
       "    .dataframe tbody tr th {\n",
       "        vertical-align: top;\n",
       "    }\n",
       "\n",
       "    .dataframe thead th {\n",
       "        text-align: right;\n",
       "    }\n",
       "</style>\n",
       "<table border=\"1\" class=\"dataframe\">\n",
       "  <thead>\n",
       "    <tr style=\"text-align: right;\">\n",
       "      <th></th>\n",
       "      <th>Price</th>\n",
       "      <th>Open</th>\n",
       "      <th>High</th>\n",
       "      <th>Low</th>\n",
       "      <th>Vol.</th>\n",
       "      <th>Change %</th>\n",
       "    </tr>\n",
       "  </thead>\n",
       "  <tbody>\n",
       "    <tr>\n",
       "      <th>0</th>\n",
       "      <td>10537.7</td>\n",
       "      <td>10477.8</td>\n",
       "      <td>10567.6</td>\n",
       "      <td>10417.9</td>\n",
       "      <td>7360000</td>\n",
       "      <td>0.0086</td>\n",
       "    </tr>\n",
       "    <tr>\n",
       "      <th>1</th>\n",
       "      <td>10926.9</td>\n",
       "      <td>10537.7</td>\n",
       "      <td>10956.8</td>\n",
       "      <td>10537.7</td>\n",
       "      <td>9450000</td>\n",
       "      <td>0.0369</td>\n",
       "    </tr>\n",
       "    <tr>\n",
       "      <th>2</th>\n",
       "      <td>10477.8</td>\n",
       "      <td>10956.8</td>\n",
       "      <td>10956.8</td>\n",
       "      <td>10477.8</td>\n",
       "      <td>8189999</td>\n",
       "      <td>-0.0411</td>\n",
       "    </tr>\n",
       "    <tr>\n",
       "      <th>3</th>\n",
       "      <td>10447.9</td>\n",
       "      <td>10447.9</td>\n",
       "      <td>10627.5</td>\n",
       "      <td>10328.1</td>\n",
       "      <td>9810000</td>\n",
       "      <td>-0.0029</td>\n",
       "    </tr>\n",
       "    <tr>\n",
       "      <th>4</th>\n",
       "      <td>10837.1</td>\n",
       "      <td>10447.9</td>\n",
       "      <td>10837.1</td>\n",
       "      <td>10447.9</td>\n",
       "      <td>8300000</td>\n",
       "      <td>0.0373</td>\n",
       "    </tr>\n",
       "    <tr>\n",
       "      <th>...</th>\n",
       "      <td>...</td>\n",
       "      <td>...</td>\n",
       "      <td>...</td>\n",
       "      <td>...</td>\n",
       "      <td>...</td>\n",
       "      <td>...</td>\n",
       "    </tr>\n",
       "    <tr>\n",
       "      <th>1373</th>\n",
       "      <td>21450.0</td>\n",
       "      <td>21650.0</td>\n",
       "      <td>21650.0</td>\n",
       "      <td>21350.0</td>\n",
       "      <td>4290000</td>\n",
       "      <td>-0.0046</td>\n",
       "    </tr>\n",
       "    <tr>\n",
       "      <th>1374</th>\n",
       "      <td>21600.0</td>\n",
       "      <td>21500.0</td>\n",
       "      <td>21600.0</td>\n",
       "      <td>21400.0</td>\n",
       "      <td>7970000</td>\n",
       "      <td>0.0070</td>\n",
       "    </tr>\n",
       "    <tr>\n",
       "      <th>1375</th>\n",
       "      <td>21650.0</td>\n",
       "      <td>21650.0</td>\n",
       "      <td>21900.0</td>\n",
       "      <td>21600.0</td>\n",
       "      <td>8029999</td>\n",
       "      <td>0.0023</td>\n",
       "    </tr>\n",
       "    <tr>\n",
       "      <th>1376</th>\n",
       "      <td>21700.0</td>\n",
       "      <td>21650.0</td>\n",
       "      <td>21700.0</td>\n",
       "      <td>21550.0</td>\n",
       "      <td>5410000</td>\n",
       "      <td>0.0023</td>\n",
       "    </tr>\n",
       "    <tr>\n",
       "      <th>1377</th>\n",
       "      <td>21800.0</td>\n",
       "      <td>21700.0</td>\n",
       "      <td>22100.0</td>\n",
       "      <td>21600.0</td>\n",
       "      <td>14410000</td>\n",
       "      <td>0.0046</td>\n",
       "    </tr>\n",
       "  </tbody>\n",
       "</table>\n",
       "<p>1378 rows × 6 columns</p>\n",
       "</div>"
      ],
      "text/plain": [
       "        Price     Open     High      Low      Vol.  Change %\n",
       "0     10537.7  10477.8  10567.6  10417.9   7360000    0.0086\n",
       "1     10926.9  10537.7  10956.8  10537.7   9450000    0.0369\n",
       "2     10477.8  10956.8  10956.8  10477.8   8189999   -0.0411\n",
       "3     10447.9  10447.9  10627.5  10328.1   9810000   -0.0029\n",
       "4     10837.1  10447.9  10837.1  10447.9   8300000    0.0373\n",
       "...       ...      ...      ...      ...       ...       ...\n",
       "1373  21450.0  21650.0  21650.0  21350.0   4290000   -0.0046\n",
       "1374  21600.0  21500.0  21600.0  21400.0   7970000    0.0070\n",
       "1375  21650.0  21650.0  21900.0  21600.0   8029999    0.0023\n",
       "1376  21700.0  21650.0  21700.0  21550.0   5410000    0.0023\n",
       "1377  21800.0  21700.0  22100.0  21600.0  14410000    0.0046\n",
       "\n",
       "[1378 rows x 6 columns]"
      ]
     },
     "execution_count": 1,
     "metadata": {},
     "output_type": "execute_result"
    }
   ],
   "source": [
    "import pandas as pd\n",
    "import numpy as np\n",
    "from statsmodels.tsa.api import VAR\n",
    "from sklearn.metrics import mean_squared_error, mean_absolute_percentage_error\n",
    "import matplotlib.pyplot as plt\n",
    "\n",
    "# Đọc dữ liệu vào từ file csv\n",
    "data = pd.read_csv('ACB Historical Data.csv', index_col='Date', parse_dates=True)\n",
    "\n",
    "# Chọn các cột 'Price', 'Open', 'High', 'Low', 'Vol.', 'Change %' cho model VAR\n",
    "cols = ['Price', 'Open', 'High', 'Low', 'Vol.', 'Change %']\n",
    "data = data[cols]\n",
    "\n",
    "# Tiền xử lí dữ liệu\n",
    "# Hàm chuyển đổi \"Vol.\" từ chuỗi sang số\n",
    "def convert_volume_to_number(volume_str):\n",
    "    if volume_str[-1] == 'K':\n",
    "        return int(float(volume_str[:-1]) * 1000)\n",
    "    elif volume_str[-1] == 'M':\n",
    "        return int(float(volume_str[:-1]) * 1000000)\n",
    "    elif volume_str[-1] == 'B':\n",
    "        return int(float(volume_str[:-1]) * 1000000000)\n",
    "    else:\n",
    "        return int(volume_str)\n",
    "    \n",
    "# Áp dụng hàm chuyển đổi cho cột \"Vol.\"\n",
    "data[\"Vol.\"] = data[\"Vol.\"].apply(convert_volume_to_number)\n",
    "\n",
    "# Hàm chuyển đổi \"Change %\" từ chuỗi sang số\n",
    "def convert_change_to_number(change_str):\n",
    "    new_change = float(change_str.strip('%')) / 100\n",
    "    return new_change\n",
    "\n",
    "# Áp dụng hàm chuyển đổi cho cột \"Change %\"\n",
    "data[\"Change %\"] = data[\"Change %\"].apply(convert_change_to_number)\n",
    "\n",
    "# Hàm chuyển giá từ chuỗi sang số\n",
    "def convert_str_to_number(str):\n",
    "    return float(str.replace(',', ''))\n",
    "\n",
    "# Áp dụng hàm chuyển đổi cho các cột giá trị\n",
    "data['Price'] = data['Price'].apply(convert_str_to_number)\n",
    "data['Open'] = data['Open'].apply(convert_str_to_number)\n",
    "data['High'] = data['High'].apply(convert_str_to_number)\n",
    "data['Low'] = data['Low'].apply(convert_str_to_number)\n",
    "\n",
    "data = data.reset_index(drop=True)\n",
    "data"
   ]
  },
  {
   "cell_type": "markdown",
   "id": "6396de0d",
   "metadata": {},
   "source": [
    "# Phân chia dữ liệu"
   ]
  },
  {
   "cell_type": "code",
   "execution_count": 2,
   "id": "bf7c76f1",
   "metadata": {},
   "outputs": [],
   "source": [
    "# Tách dữ liệu thành tập train/test/validate\n",
    "train_size = int(len(data) * 0.7)\n",
    "test_size = int(len(data) * 0.2)\n",
    "validate_size = len(data) - train_size - test_size\n",
    "\n",
    "train_data = data[:train_size]\n",
    "test_data = data[train_size:train_size+test_size]\n",
    "val_data = data[train_size+test_size:]"
   ]
  },
  {
   "cell_type": "code",
   "execution_count": 3,
   "id": "9bdcb534",
   "metadata": {},
   "outputs": [],
   "source": [
    "# Chuyển đổi dữ liệu thành dạng ma trận\n",
    "train_X = train_data.values\n",
    "train_y = train_data['Price'].values\n",
    "\n",
    "val_X = val_data.values\n",
    "val_y = val_data['Price'].values\n",
    "\n",
    "test_X = test_data.values\n",
    "test_y = test_data['Price'].values"
   ]
  },
  {
   "cell_type": "markdown",
   "id": "19c0c10b",
   "metadata": {},
   "source": [
    "# Xây dựng mô hình và train"
   ]
  },
  {
   "cell_type": "code",
   "execution_count": 4,
   "id": "aed52ebf",
   "metadata": {},
   "outputs": [
    {
     "name": "stdout",
     "output_type": "stream",
     "text": [
      "p=1, RMSE=3012.8226854213626\n",
      "p=2, RMSE=2724.1485772974765\n",
      "p=3, RMSE=2947.4277918150487\n",
      "p=4, RMSE=2676.676993957836\n",
      "p=5, RMSE=2823.6440601579516\n"
     ]
    }
   ],
   "source": [
    "# Xác định số lượng lags tối ưu\n",
    "best_p = 0\n",
    "best_rmse = float('inf')\n",
    "\n",
    "for p in range(1, 6):\n",
    "    model = VAR(train_X)\n",
    "    results = model.fit(p)\n",
    "    \n",
    "    val_pred = results.forecast(train_X[-p:], len(val_X))\n",
    "    rmse = np.sqrt(mean_squared_error(val_y, val_pred[:, 0]))\n",
    "    print(f'p={p}, RMSE={rmse}')\n",
    "    if rmse < best_rmse:\n",
    "        best_p = p\n",
    "        best_rmse = rmse\n",
    "\n",
    "# Huấn luyện model VAR trên toàn bộ tập train với số lượng lags tối ưu\n",
    "model = VAR(train_X)\n",
    "results = model.fit(best_p)"
   ]
  },
  {
   "cell_type": "markdown",
   "id": "dc67140c",
   "metadata": {},
   "source": [
    "# Dự báo trên tập test / validate và đánh giá mô hình"
   ]
  },
  {
   "cell_type": "code",
   "execution_count": 5,
   "id": "1e2ad6c0",
   "metadata": {},
   "outputs": [],
   "source": [
    "# Dự đoán giá trị trên tập test và validate\n",
    "test_pred = results.forecast(test_X[-best_p:], len(test_X))\n",
    "val_pred = results.forecast(val_X[-best_p:], len(val_X))"
   ]
  },
  {
   "cell_type": "code",
   "execution_count": 6,
   "id": "3beadf06",
   "metadata": {},
   "outputs": [
    {
     "name": "stdout",
     "output_type": "stream",
     "text": [
      "RMSE trên tập test là: 4109.37558303761\n",
      "MAPE trên tập test là: 14.0985271968866 %\n",
      "MDA trên tập test là: 48.175182481751825 %\n"
     ]
    }
   ],
   "source": [
    "# Hàm tính MDA\n",
    "def calculate_mda(y_true, y_pred):\n",
    "    y_true_diff = np.diff(y_true)\n",
    "    y_pred_diff = np.diff(y_pred)\n",
    "    correct_direction = np.sign(y_true_diff) == np.sign(y_pred_diff)\n",
    "    return np.mean(correct_direction) * 100\n",
    "\n",
    "# Tính toán RMSE, MAPE, MDA trên tập test\n",
    "test_score_rmse = np.sqrt(mean_squared_error(test_y, test_pred[:, 0]))\n",
    "test_score_mape = mean_absolute_percentage_error(test_y, test_pred[:, 0]) * 100\n",
    "test_score_mda = calculate_mda(test_y, test_pred[:, 0])\n",
    "\n",
    "\n",
    "print('RMSE trên tập test là:', test_score_rmse)\n",
    "print('MAPE trên tập test là:', test_score_mape, '%')\n",
    "print('MDA trên tập test là:', test_score_mda, '%')"
   ]
  },
  {
   "cell_type": "markdown",
   "id": "f8f8f210",
   "metadata": {},
   "source": [
    "# Dự báo 30 ngày tiếp theo"
   ]
  },
  {
   "cell_type": "code",
   "execution_count": 7,
   "id": "09e40ca9",
   "metadata": {},
   "outputs": [],
   "source": [
    "# Tạo hàm dự báo 30 ngày tương lai, với k_ar là thuộc tính của results VAR thể hiện số lượng lags tối ưu\n",
    "def forecast_VAR(results, val_data, forecast_horizon=30):\n",
    "\n",
    "    forecast = results.forecast(val_data.values[-results.k_ar:], forecast_horizon)\n",
    "\n",
    "    return forecast"
   ]
  },
  {
   "cell_type": "code",
   "execution_count": 8,
   "id": "07ba1eee",
   "metadata": {},
   "outputs": [
    {
     "name": "stdout",
     "output_type": "stream",
     "text": [
      "[21858.3330676  21908.69251739 21928.62361608 21968.69781932\n",
      " 21940.55717916 21959.07020234 21956.96750129 21972.63383092\n",
      " 21983.03005406 21999.33668908 22009.95610605 22025.20432026\n",
      " 22037.36262573 22051.53653839 22064.29434706 22078.27943191\n",
      " 22091.49194097 22105.29310615 22118.754252   22132.50757976\n",
      " 22146.08749977 22159.8096784  22173.45364994 22187.16659793\n",
      " 22200.84018263 22214.54743622 22228.23566562 22241.93915953\n",
      " 22255.63222214 22269.33167745]\n"
     ]
    }
   ],
   "source": [
    "# Dự báo tương lai\n",
    "next_30_days = forecast_VAR(results, val_data)\n",
    "print(next_30_days[:,1])"
   ]
  },
  {
   "cell_type": "markdown",
   "id": "a19bcaed",
   "metadata": {},
   "source": [
    "# Chuyển các chuỗi np thành dataframe để vẽ đồ thị"
   ]
  },
  {
   "cell_type": "code",
   "execution_count": 9,
   "id": "67bbad28",
   "metadata": {},
   "outputs": [],
   "source": [
    "next_30_days_df = pd.DataFrame(next_30_days[:,1])\n",
    "next_30_index = range(len(data), len(data)+len(next_30_days[:,1]))\n",
    "next_30_days_df.index = next_30_index"
   ]
  },
  {
   "cell_type": "markdown",
   "id": "81523271",
   "metadata": {},
   "source": [
    "# Vẽ đồ thị"
   ]
  },
  {
   "cell_type": "code",
   "execution_count": 10,
   "id": "756784ce",
   "metadata": {},
   "outputs": [
    {
     "data": {
      "image/png": "[encoded data removed]",
      "text/plain": [
       "<Figure size 640x480 with 1 Axes>"
      ]
     },
     "metadata": {},
     "output_type": "display_data"
    }
   ],
   "source": [
    "# Vẽ đồ thị cho dữ liệu thực tế và dự đoán trên tập test\n",
    "plt.plot(train_data.index, train_data['Price'], label='Train')\n",
    "plt.plot(test_data.index, test_data['Price'], label='Actual Test')\n",
    "plt.plot(test_data.index, test_pred[:, 0], label='Predicted Test')\n",
    "plt.plot(val_data.index, val_data['Price'], label='Actual Validate')\n",
    "plt.plot(val_data.index, val_pred[:, 0], label='Predicted Validate')\n",
    "plt.plot(next_30_days_df.index, next_30_days_df, label='Next 30 days')\n",
    "plt.legend()\n",
    "plt.show()"
   ]
  },
  {
   "cell_type": "code",
   "execution_count": null,
   "id": "eb912290",
   "metadata": {},
   "outputs": [],
   "source": []
  }
 ],
 "metadata": {
  "kernelspec": {
   "display_name": "Python 3 (ipykernel)",
   "language": "python",
   "name": "python3"
  },
  "language_info": {
   "codemirror_mode": {
    "name": "ipython",
    "version": 3
   },
   "file_extension": ".py",
   "mimetype": "text/x-python",
   "name": "python",
   "nbconvert_exporter": "python",
   "pygments_lexer": "ipython3",
   "version": "3.11.2"
  }
 },
 "nbformat": 4,
 "nbformat_minor": 5
}
